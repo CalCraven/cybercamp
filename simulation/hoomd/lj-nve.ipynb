{
 "cells": [
  {
   "cell_type": "markdown",
   "metadata": {
    "slideshow": {
     "slide_type": "skip"
    }
   },
   "source": [
    "# Lennard Jones - NVE ensemble\n",
    "\n",
    "Tutorial for a simple MD simulation of Lennard-Jones spheres operating under the microcanonical ensemble.\n",
    "\n",
    "NOTE: This tutorial is an adaptation of Andrew Summers' LJ Tutorial located at\n",
    "https://github.com/summeraz/chbe4830/blob/master/Assignment3/LJ-NVE.ipynb\n",
    "\n",
    "NOTE: This tutorial has been adapted from the LJ tutorial located at https://bitbucket.org/glotzer/hoomd-examples.\n",
    "\n",
    "NOTE: A detailed description of all HOOMD commands can be found at https://hoomd-blue.readthedocs.io/en/stable/."
   ]
  },
  {
   "cell_type": "markdown",
   "metadata": {
    "slideshow": {
     "slide_type": "slide"
    }
   },
   "source": [
    "## Initialize"
   ]
  },
  {
   "cell_type": "markdown",
   "metadata": {
    "slideshow": {
     "slide_type": "skip"
    }
   },
   "source": [
    "Import the hoomd python package and the md component to execute MD simulations. Also import the `deprecated` component for outputting `hoomdxml` trajectory information. "
   ]
  },
  {
   "cell_type": "code",
   "execution_count": 1,
   "metadata": {
    "slideshow": {
     "slide_type": "fragment"
    }
   },
   "outputs": [],
   "source": [
    "import hoomd\n",
    "import hoomd.md\n",
    "import hoomd.deprecated.dump"
   ]
  },
  {
   "cell_type": "markdown",
   "metadata": {
    "slideshow": {
     "slide_type": "skip"
    }
   },
   "source": [
    "Initialize the execution context to control where HOOMD will execute the simulation. When no command line options are provided, HOOMD will auto-select a GPU if it exists, or run on the CPU."
   ]
  },
  {
   "cell_type": "code",
   "execution_count": 2,
   "metadata": {
    "slideshow": {
     "slide_type": "subslide"
    }
   },
   "outputs": [
    {
     "name": "stdout",
     "output_type": "stream",
     "text": [
      "HOOMD-blue 2.2.2-unknown DOUBLE HPMC_MIXED SSE SSE2 SSE3 \n",
      "Compiled: 12/04/17\n",
      "Copyright 2009-2017 The Regents of the University of Michigan.\n",
      "-----\n",
      "You are using HOOMD-blue. Please cite the following:\n",
      "* J A Anderson, C D Lorenz, and A Travesset. \"General purpose molecular dynamics\n",
      "  simulations fully implemented on graphics processing units\", Journal of\n",
      "  Computational Physics 227 (2008) 5342--5359\n",
      "* J Glaser, T D Nguyen, J A Anderson, P Liu, F Spiga, J A Millan, D C Morse, and\n",
      "  S C Glotzer. \"Strong scaling of general-purpose molecular dynamics simulations\n",
      "  on GPUs\", Computer Physics Communications 192 (2015) 97--107\n",
      "-----\n",
      "HOOMD-blue is running on the CPU\n"
     ]
    },
    {
     "data": {
      "text/plain": [
       "<hoomd.context.SimulationContext at 0x10f9aa278>"
      ]
     },
     "execution_count": 2,
     "metadata": {},
     "output_type": "execute_result"
    }
   ],
   "source": [
    "hoomd.context.initialize(\"\")"
   ]
  },
  {
   "cell_type": "markdown",
   "metadata": {
    "slideshow": {
     "slide_type": "skip"
    }
   },
   "source": [
    "Initialize an $n$ by $n$ by $n$ simple cubic lattice of particles, where `a` represents the lattice constant. The lattice initializer by default creates all particles named type \"A\", and with 0 velocity."
   ]
  },
  {
   "cell_type": "code",
   "execution_count": 3,
   "metadata": {
    "slideshow": {
     "slide_type": "subslide"
    }
   },
   "outputs": [
    {
     "name": "stdout",
     "output_type": "stream",
     "text": [
      "notice(2): Group \"all\" created containing 125 particles\n"
     ]
    }
   ],
   "source": [
    "lattice = hoomd.init.create_lattice(unitcell=hoomd.lattice.sc(a=2.0), n=5)"
   ]
  },
  {
   "cell_type": "markdown",
   "metadata": {},
   "source": [
    "Initialize particle velocities from a Gaussian distribution."
   ]
  },
  {
   "cell_type": "code",
   "execution_count": 4,
   "metadata": {},
   "outputs": [],
   "source": [
    "import random\n",
    "random.seed(1)\n",
    "T_init = 0.1\n",
    "for p in lattice.particles:\n",
    "    p.velocity = (random.gauss(0, T_init), random.gauss(0, T_init), random.gauss(0, T_init))"
   ]
  },
  {
   "cell_type": "markdown",
   "metadata": {
    "slideshow": {
     "slide_type": "slide"
    }
   },
   "source": [
    "## Define potential energy\n",
    "\n",
    "$ V(r) = 4 \\varepsilon \\left[ \\left( \\frac{\\sigma}{r} \\right)^{12} - \\left( \\frac{\\sigma}{r} \\right)^{6} \\right] $, where $r$ < $r$<sub>cut</sub>"
   ]
  },
  {
   "cell_type": "markdown",
   "metadata": {
    "slideshow": {
     "slide_type": "skip"
    }
   },
   "source": [
    "In the Lennard-Jones system, pairs of particles closer than $r_\\mathrm{cut}$ interact with this potential energy.\n",
    "\n",
    "Choose the neighbor list acceleration structure to find neighboring particles efficiently. In systems with only one cutoff length, the cell method performs best."
   ]
  },
  {
   "cell_type": "code",
   "execution_count": 5,
   "metadata": {
    "slideshow": {
     "slide_type": "fragment"
    }
   },
   "outputs": [],
   "source": [
    "nl = hoomd.md.nlist.cell(r_buff=0.6, check_period=1)"
   ]
  },
  {
   "cell_type": "markdown",
   "metadata": {
    "slideshow": {
     "slide_type": "skip"
    }
   },
   "source": [
    "Define the functional form of the pair interaction and evaluate using the given neighbor list acceleration structure."
   ]
  },
  {
   "cell_type": "code",
   "execution_count": 6,
   "metadata": {
    "slideshow": {
     "slide_type": "fragment"
    }
   },
   "outputs": [],
   "source": [
    "lj = hoomd.md.pair.lj(r_cut=2.5, nlist=nl)"
   ]
  },
  {
   "cell_type": "markdown",
   "metadata": {
    "slideshow": {
     "slide_type": "skip"
    }
   },
   "source": [
    "Specify pair potential parameters for every pair of types in the simulation."
   ]
  },
  {
   "cell_type": "code",
   "execution_count": 7,
   "metadata": {
    "slideshow": {
     "slide_type": "fragment"
    }
   },
   "outputs": [],
   "source": [
    "lj.pair_coeff.set('A', 'A', epsilon=1.0, sigma=1.0)"
   ]
  },
  {
   "cell_type": "markdown",
   "metadata": {
    "slideshow": {
     "slide_type": "slide"
    }
   },
   "source": [
    "## Select integrator"
   ]
  },
  {
   "cell_type": "markdown",
   "metadata": {
    "slideshow": {
     "slide_type": "skip"
    }
   },
   "source": [
    "The integrator defines the equations of motion that govern the system of particles, given the current configuration of the particles and the net force from all potentials. The standard integration mode in HOOMD allows different integrators to apply to different groups of particles with the same step size $dt$."
   ]
  },
  {
   "cell_type": "code",
   "execution_count": 8,
   "metadata": {
    "slideshow": {
     "slide_type": "fragment"
    }
   },
   "outputs": [
    {
     "data": {
      "text/plain": [
       "<hoomd.md.integrate.mode_standard at 0x118775550>"
      ]
     },
     "execution_count": 8,
     "metadata": {},
     "output_type": "execute_result"
    }
   ],
   "source": [
    "hoomd.md.integrate.mode_standard(dt=0.005)"
   ]
  },
  {
   "cell_type": "markdown",
   "metadata": {
    "slideshow": {
     "slide_type": "skip"
    }
   },
   "source": [
    "Apply NVE integration using the Velocity-Verlet algorithm."
   ]
  },
  {
   "cell_type": "code",
   "execution_count": 9,
   "metadata": {
    "slideshow": {
     "slide_type": "fragment"
    }
   },
   "outputs": [
    {
     "data": {
      "text/plain": [
       "<hoomd.md.integrate.nve at 0x118775668>"
      ]
     },
     "execution_count": 9,
     "metadata": {},
     "output_type": "execute_result"
    }
   ],
   "source": [
    "all = hoomd.group.all()\n",
    "hoomd.md.integrate.nve(group=all)"
   ]
  },
  {
   "cell_type": "markdown",
   "metadata": {
    "slideshow": {
     "slide_type": "slide"
    }
   },
   "source": [
    "## Write output"
   ]
  },
  {
   "cell_type": "markdown",
   "metadata": {
    "slideshow": {
     "slide_type": "skip"
    }
   },
   "source": [
    "The `hoomd.analyze.log` method can be used to log a variety of system properties (see http://hoomd-blue.readthedocs.io/en/stable/module-hoomd-analyze.html#hoomd.analyze.log). Here we will periodically log the temperature of the system to a text file."
   ]
  },
  {
   "cell_type": "code",
   "execution_count": 10,
   "metadata": {
    "slideshow": {
     "slide_type": "fragment"
    }
   },
   "outputs": [
    {
     "data": {
      "text/plain": [
       "<hoomd.analyze.log at 0x118775518>"
      ]
     },
     "execution_count": 10,
     "metadata": {},
     "output_type": "execute_result"
    }
   ],
   "source": [
    "hoomd.analyze.log(filename=\"analyze.log\",\n",
    "                  quantities=['temperature'],\n",
    "                  period=100,\n",
    "                  overwrite=True)"
   ]
  },
  {
   "cell_type": "markdown",
   "metadata": {
    "slideshow": {
     "slide_type": "skip"
    }
   },
   "source": [
    "Periodically write the particle configurations to a gsd file."
   ]
  },
  {
   "cell_type": "code",
   "execution_count": 11,
   "metadata": {
    "slideshow": {
     "slide_type": "fragment"
    }
   },
   "outputs": [
    {
     "data": {
      "text/plain": [
       "<hoomd.dump.gsd at 0x118775828>"
      ]
     },
     "execution_count": 11,
     "metadata": {},
     "output_type": "execute_result"
    }
   ],
   "source": [
    "hoomd.dump.gsd(\"trajectory.gsd\", period=2e4, group=all, overwrite=True)"
   ]
  },
  {
   "cell_type": "markdown",
   "metadata": {},
   "source": [
    "From the `deprecated` module, output the `hoomdxml` trajectory data for easier interfacing with `MDTraj` later."
   ]
  },
  {
   "cell_type": "code",
   "execution_count": 12,
   "metadata": {},
   "outputs": [
    {
     "data": {
      "text/plain": [
       "<hoomd.deprecated.dump.xml at 0x1187757b8>"
      ]
     },
     "execution_count": 12,
     "metadata": {},
     "output_type": "execute_result"
    }
   ],
   "source": [
    "hoomd.deprecated.dump.xml(all, filename='traj.xml', period=2e4, vis=True)"
   ]
  },
  {
   "cell_type": "markdown",
   "metadata": {
    "slideshow": {
     "slide_type": "slide"
    }
   },
   "source": [
    "## Run the simulation"
   ]
  },
  {
   "cell_type": "markdown",
   "metadata": {
    "slideshow": {
     "slide_type": "skip"
    }
   },
   "source": [
    "Take 1,000,000 steps forward in time."
   ]
  },
  {
   "cell_type": "code",
   "execution_count": 13,
   "metadata": {
    "slideshow": {
     "slide_type": "fragment"
    }
   },
   "outputs": [
    {
     "name": "stdout",
     "output_type": "stream",
     "text": [
      "notice(2): -- Neighborlist exclusion statistics -- :\n",
      "notice(2): Particles with 0 exclusions             : 125\n",
      "notice(2): Neighbors included by diameter          : no\n",
      "notice(2): Neighbors excluded when in the same body: no\n",
      "** starting run **\n",
      "Time 00:00:19 | Step 255797 / 1000000 | TPS 25579.7 | ETA 00:00:29\n",
      "Time 00:00:29 | Step 514241 / 1000000 | TPS 25844.4 | ETA 00:00:18\n",
      "Time 00:00:39 | Step 762077 / 1000000 | TPS 24783.5 | ETA 00:00:09\n",
      "Time 00:00:48 | Step 1000000 / 1000000 | TPS 25463.7 | ETA 00:00:00\n",
      "Average TPS: 25410.5\n",
      "---------\n",
      "-- Neighborlist stats:\n",
      "47564 normal updates / 10000 forced updates / 0 dangerous updates\n",
      "n_neigh_min: 0 / n_neigh_max: 39 / n_neigh_avg: 11.88\n",
      "shortest rebuild period: 12\n",
      "-- Cell list stats:\n",
      "Dimension: 3, 3, 3\n",
      "n_min    : 0 / n_max: 12 / n_avg: 4.62963\n",
      "** run complete **\n"
     ]
    }
   ],
   "source": [
    "hoomd.run(1e6)"
   ]
  },
  {
   "cell_type": "markdown",
   "metadata": {
    "slideshow": {
     "slide_type": "slide"
    }
   },
   "source": [
    "## Examine the output"
   ]
  },
  {
   "cell_type": "markdown",
   "metadata": {
    "slideshow": {
     "slide_type": "skip"
    }
   },
   "source": [
    "Use matplotlib to plot the temperature vs time step."
   ]
  },
  {
   "cell_type": "code",
   "execution_count": 14,
   "metadata": {
    "slideshow": {
     "slide_type": "fragment"
    }
   },
   "outputs": [],
   "source": [
    "import numpy\n",
    "from matplotlib import pyplot\n",
    "%matplotlib inline\n",
    "data = numpy.genfromtxt(fname='analyze.log', skip_header=True);"
   ]
  },
  {
   "cell_type": "code",
   "execution_count": 15,
   "metadata": {
    "slideshow": {
     "slide_type": "subslide"
    }
   },
   "outputs": [
    {
     "data": {
      "image/png": "[encoded data removed]",
      "text/plain": [
       "<matplotlib.figure.Figure at 0x121876080>"
      ]
     },
     "metadata": {},
     "output_type": "display_data"
    }
   ],
   "source": [
    "pyplot.figure(figsize=(4,2.2), dpi=140);\n",
    "pyplot.plot(data[:,0], data[:,1]);\n",
    "pyplot.xlabel('time step');\n",
    "pyplot.ylabel('temperature');"
   ]
  },
  {
   "cell_type": "markdown",
   "metadata": {},
   "source": [
    "Examine how the system configuration evolves over time. [ex_render](ex_render.py) is a helper script that builds animated gifs from trajectory files and system snapshots. It is part of the [hoomd-examples](https://bitbucket.org/glotzer/hoomd-examples) repository and designed only to render these examples."
   ]
  },
  {
   "cell_type": "code",
   "execution_count": 16,
   "metadata": {
    "slideshow": {
     "slide_type": "subslide"
    }
   },
   "outputs": [],
   "source": [
    "#import ex_render\n",
    "#ex_render.display_movie(ex_render.render_sphere_frame, 'trajectory.gsd');"
   ]
  },
  {
   "cell_type": "markdown",
   "metadata": {},
   "source": [
    "Now lets analyze the trajectory a bit more. Using the `MDTraj` python package, we can analyze the system as it evolves over time and calculate some interesting properties. In this example, we will calculate the radial distribution function (RDF)."
   ]
  },
  {
   "cell_type": "code",
   "execution_count": 17,
   "metadata": {},
   "outputs": [],
   "source": [
    "import mdtraj as md"
   ]
  },
  {
   "cell_type": "markdown",
   "metadata": {},
   "source": [
    "Lets load in two of our hoomdxml trajectories. One near the beginning when it was more solid, and one near the end of the simulation, when it was a liquid."
   ]
  },
  {
   "cell_type": "code",
   "execution_count": 28,
   "metadata": {},
   "outputs": [],
   "source": [
    "more_solid = md.load_hoomdxml(filename=\"./traj.xml.0000000000.xml\")\n",
    "less_solid = md.load_hoomdxml(filename=\"./traj.xml.0000980000.xml\")\n",
    "\n",
    "# scale xyz positions\n",
    "more_solid.xyz = more_solid.xyz/10\n",
    "less_solid.xyz = less_solid.xyz/10"
   ]
  },
  {
   "cell_type": "code",
   "execution_count": 29,
   "metadata": {},
   "outputs": [
    {
     "name": "stdout",
     "output_type": "stream",
     "text": [
      "<mdtraj.Trajectory with 1 frames, 125 atoms, 125 residues, and unitcells>\n",
      "<mdtraj.Trajectory with 1 frames, 125 atoms, 125 residues, and unitcells>\n"
     ]
    }
   ],
   "source": [
    "print(more_solid)\n",
    "print(less_solid)"
   ]
  },
  {
   "cell_type": "markdown",
   "metadata": {},
   "source": [
    "Lets calculate the RDF's"
   ]
  },
  {
   "cell_type": "code",
   "execution_count": 30,
   "metadata": {},
   "outputs": [],
   "source": [
    "r_solid, g_r_solid = md.compute_rdf(more_solid, more_solid.top.select_pairs(\"all\", \"all\"))"
   ]
  },
  {
   "cell_type": "code",
   "execution_count": 33,
   "metadata": {},
   "outputs": [
    {
     "name": "stdout",
     "output_type": "stream",
     "text": [
      "[    0.             0.             0.             0.\n",
      "     0.             0.             0.             0.\n",
      "     0.             0.             0.             0.\n",
      "     0.             0.             0.             0.\n",
      "     0.             0.             0.             0.\n",
      "     0.             0.             0.             0.\n",
      "     0.             0.             0.             0.\n",
      "     0.             0.             0.             0.\n",
      "     0.             0.             0.             0.\n",
      "     0.             0.             0.             0.\n",
      " 15023.37697244     0.             0.             0.\n",
      "     0.             0.             0.             0.\n",
      "     0.             0.             0.             0.\n",
      "     0.             0.             0.             0.\n",
      " 12351.26458497     0.             0.             0.\n",
      "     0.             0.             0.             0.\n",
      "     0.             0.             0.             0.\n",
      "     0.          4353.52741905     0.             0.\n",
      "     0.             0.             0.             0.\n",
      "     0.             0.             0.             0.\n",
      "  2852.09241094     0.             0.             0.\n",
      "     0.             0.             0.             0.\n",
      "     0.          7383.46683015     0.             0.\n",
      "     0.             0.             0.             0.\n",
      "     0.          4977.23177939     0.             0.\n",
      "     0.             0.             0.             0.\n",
      "     0.             0.             0.             0.\n",
      "     0.             0.             0.             0.\n",
      "     0.          1721.66104156     0.             0.\n",
      "     0.             0.             0.             0.\n",
      "  3292.49268561     0.             0.             0.\n",
      "     0.             0.          2463.97527299     0.\n",
      "     0.             0.             0.             0.\n",
      "  1796.70107168     0.             0.             0.\n",
      "     0.             0.           462.48829147     0.\n",
      "     0.             0.             0.             0.\n",
      "  1416.26164489     0.             0.             0.\n",
      "     0.          2116.98070299     0.             0.\n",
      "     0.             0.             0.             0.\n",
      "     0.             0.             0.             0.\n",
      "   239.15981315     0.             0.             0.\n",
      "  1384.23594048     0.             0.             0.\n",
      "     0.           892.05647463     0.             0.\n",
      "     0.             0.           517.94971453     0.\n",
      "     0.             0.           464.05915918     0.\n",
      "     0.             0.             0.           702.5830955\n",
      "     0.             0.             0.           336.46302022\n",
      "     0.             0.             0.             0.\n",
      "     0.             0.             0.           232.11740443\n",
      "     0.             0.             0.           247.66974508]\n"
     ]
    }
   ],
   "source": [
    "print(g_r_solid)"
   ]
  },
  {
   "cell_type": "code",
   "execution_count": 32,
   "metadata": {},
   "outputs": [
    {
     "data": {
      "text/plain": [
       "[<matplotlib.lines.Line2D at 0x10c904b70>]"
      ]
     },
     "execution_count": 32,
     "metadata": {},
     "output_type": "execute_result"
    },
    {
     "data": {
      "image/png": "[encoded data removed]",
      "text/plain": [
       "<matplotlib.figure.Figure at 0x10c94d5f8>"
      ]
     },
     "metadata": {},
     "output_type": "display_data"
    }
   ],
   "source": [
    "pyplot.plot(r_solid, g_r_solid)"
   ]
  },
  {
   "cell_type": "code",
   "execution_count": 34,
   "metadata": {},
   "outputs": [],
   "source": [
    "r_liq, g_r_liq = md.compute_rdf(less_solid, less_solid.top.select_pairs(\"all\", \"all\"))"
   ]
  },
  {
   "cell_type": "code",
   "execution_count": 35,
   "metadata": {},
   "outputs": [
    {
     "name": "stdout",
     "output_type": "stream",
     "text": [
      "[   0.            0.            0.            0.            0.\n",
      "    0.            0.            0.            0.            0.\n",
      "    0.            0.            0.            0.            0.\n",
      "    0.            0.          268.15392848    0.          863.92098255\n",
      " 1563.4160842  3553.4745533  4055.85023488 2974.4533527  3010.29212991\n",
      " 1894.67037625 1520.47222759  760.26188713 2022.43299361  849.44509477\n",
      "  706.36606312  993.34952074  933.16551696 1317.43459605 1656.23160082\n",
      "  977.65191856  801.50987829  817.7455425   775.81930376  947.61851845\n",
      "  651.01300214  810.79326971 1273.32291707 1085.22749811  871.08275807\n",
      "  872.89263017  835.7539889   873.74841875  558.72684772 1039.23782729\n",
      "  611.97696316  650.38364531  864.26053306  573.9686975   663.71934087\n",
      "  773.35465295  694.7586329   596.2700924   840.08679356  765.68159203\n",
      "  583.48692897  673.25612659  735.99890003  529.65776366  651.5747287\n",
      "  555.24592867  501.52283314  631.00234907  630.21983162  493.17302794\n",
      "  561.91654813  449.90134235  656.36408976  623.42024256  399.5978276\n",
      "  432.31412246  533.37537679  273.52623372  439.8931243   636.84613434\n",
      "  519.7146171   469.93885132  434.47791615  388.78922355  448.66742685\n",
      "  460.70730341  483.05217855  461.34523887  597.80853877  481.97630697\n",
      "  371.08941557  363.02257555  470.42111314  422.82783819  524.30694022\n",
      "  414.31011924  449.8731601   311.07698621  431.78982629  331.88574159\n",
      "  325.31396359  462.45642397  359.65415059  329.73329158  338.49716774\n",
      "  376.39203599  420.05291961  341.19259549  286.08805593  301.43927753\n",
      "  343.1002832   383.22494291  369.95199335  337.95568594  325.81271603\n",
      "  387.92903718  308.66975646  261.78981269  280.78918729  322.12772286\n",
      "  265.88858458  289.35217861  333.91326055  220.81368689  238.47886523\n",
      "  239.90897912  241.26424548  232.44149301  303.45885049  181.2334883\n",
      "  313.52243874  247.01775226  252.6610882   281.1536289   254.28449402\n",
      "  228.17498727  238.07014428  251.99916599  218.39724875  211.05621715\n",
      "  203.90131125  201.0295096   190.12742548  227.37762008  208.50518661\n",
      "  162.96712902  199.02371494  169.90463638  234.6737004   191.11631346\n",
      "  188.58500882  186.10366316  218.99231087  205.68950664  185.82908847\n",
      "  203.82966345  191.17148544  225.17737807  147.14007075  138.84302868\n",
      "  140.30709038  160.62093721  161.76094036  141.35116242  124.45981044\n",
      "  176.94288929  136.30333152  175.67046794  135.98004899  114.3662147\n",
      "  124.33147484  120.09291784  135.26800517  141.89974126  126.78977387\n",
      "  128.0159965   137.11696218  125.14738934  139.21774775  101.97844437\n",
      "   95.80904114  104.73054258  110.98495494   63.42764057  118.24443115\n",
      "   95.48816161  108.63694378   98.13504756   83.22564959   77.77462058\n",
      "   54.32487115   64.95878226   84.23635627   72.39848112   54.28480238\n",
      "   66.62629201   68.07730456   50.54224567   45.86476373   55.72569264]\n"
     ]
    }
   ],
   "source": [
    "print(g_r_liq)"
   ]
  },
  {
   "cell_type": "code",
   "execution_count": 36,
   "metadata": {},
   "outputs": [
    {
     "data": {
      "text/plain": [
       "[<matplotlib.lines.Line2D at 0x10c97e278>]"
      ]
     },
     "execution_count": 36,
     "metadata": {},
     "output_type": "execute_result"
    },
    {
     "data": {
      "image/png": "[encoded data removed]",
      "text/plain": [
       "<matplotlib.figure.Figure at 0x10c9802e8>"
      ]
     },
     "metadata": {},
     "output_type": "display_data"
    }
   ],
   "source": [
    "pyplot.plot(r_liq, g_r_liq)"
   ]
  },
  {
   "cell_type": "code",
   "execution_count": null,
   "metadata": {},
   "outputs": [],
   "source": []
  }
 ],
 "metadata": {
  "kernelspec": {
   "display_name": "Python 3",
   "language": "python",
   "name": "python3"
  },
  "language_info": {
   "codemirror_mode": {
    "name": "ipython",
    "version": 3
   },
   "file_extension": ".py",
   "mimetype": "text/x-python",
   "name": "python",
   "nbconvert_exporter": "python",
   "pygments_lexer": "ipython3",
   "version": "3.5.5"
  }
 },
 "nbformat": 4,
 "nbformat_minor": 2
}
