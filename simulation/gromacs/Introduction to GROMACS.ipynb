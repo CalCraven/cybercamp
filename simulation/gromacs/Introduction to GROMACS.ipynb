{
 "cells": [
  {
   "cell_type": "markdown",
   "metadata": {},
   "source": [
    "# Introduction to GROMACS\n",
    "This notebook provides a basic overview of using the GROMACS simulation engine to perform an energy minimization and basic molecular dynamics simulation."
   ]
  },
  {
   "cell_type": "markdown",
   "metadata": {},
   "source": [
    "To perform a simulation, GROMACS requires three key input files: \n",
    "\n",
    " * The \".top\" file that defines the system topology (bonds, angles, dihedrals) and their associated parameters \n",
    " * The \".gro\" file defines the coordinates and box size.  \n",
    " * The \".mdp\" file that defines which simulation algorithms to use and their associated input parameters. \n",
    " \n",
    "    The structure of these files is relatively straight forward, and extensively documented elsewhere ( See the GROMACS manual: [top file](http://manual.gromacs.org/online/top.html), [gro file](http://manual.gromacs.org/online/gro.html), and [mdp file](http://manual.gromacs.org/online/mdp.html). In general, one does not need to generate the .top and .gro files by hand, as there are extensive  databases,  tools to facilitate conversion from common (e.g., the ```pdb2gmx``` tool in GROMACS to convert from PDB to \".gro\" [(see the manual for more information)](http://manual.gromacs.org/programs/gmx-pdb2gmx.html)), and software such as [MoSDeF](http://github.com/mosdef-hub/) that will generate these files automatically. "
   ]
  },
  {
   "cell_type": "markdown",
   "metadata": {},
   "source": [
    "### Example, energy minimization of a hexane molecule\n",
    "Let us consider a single hexane molecule; we have included \"hexane.top\" and \"hexane.gro\" in \"hexane\" directory of this tutorial.  The file \"hexane.gro\" can be easily viewed in a text editor or visualized with [VMD](https://www.ks.uiuc.edu/Research/vmd/).  As can be seen in the image below, this intial configuration is clearly not an energetically favorable state for the molecule. \n",
    "\n",
    "![\"VMD rendering\"](hexane/hexane.jpg)\n",
    "\n",
    "Let us  consider performing an energy minimization using GROMACS. To perform the energy minimization, we'll need to create an .mdp file to tell GROMACS what to do. The contents of the \"minim.mdp\" file included in the \"hexane\" source directory is shown below, with comments describing each of the entries in the file; for more information on the commands in the .mdp option, see the [mdp options page](http://manual.gromacs.org/online/mdp_opt.html) and the [mdp file format ](http://manual.gromacs.org/online/mdp.html) pages in the manual.\n",
    "\n",
    "```\n",
    "; minim.mdp - used as input into grompp to generate em.tpr\n",
    "integrator     = steep     ; Algorithm (steep = steepest descent minimization)\n",
    "emtol          = 1000.0    ; Stop minimization when the maximum force < 1000.0 kJ/mol/nm\n",
    "emstep         = 0.01      ; Energy step size\n",
    "nsteps         = 50000     ; Maximum number of (minimization) steps to perform\n",
    "nstxout        = 1         ; output frequency for trajectory\n",
    "nstlog         = 1         ; output frequency for log\n",
    "; Parameters describing how to find the neighbors of each atom and how to calculate the interactions\n",
    "nstlist        = 1         ; Frequency to update the neighbor list and long range forces\n",
    "cutoff-scheme  = Verlet\n",
    "ns_type        = simple    ; Method to determine neighbor list (simple, grid)\n",
    "rvdw           = 1.0\t   ; Short-range Van der Waals cut-off\n",
    "pbc            = xyz       ; Periodic Boundary Conditions (yes/no)\n",
    "coulombtype    = PME\t   ; Long range solver  \n",
    "fourierspacing = 0.16      ; grid size\n",
    "```\n",
    "\n",
    "Before we can use perform the energy minimazation, we must run the .mdp file through the ```grompp``` preprocessor to prepare the files for running.  This preprocessing step checks for errors and also provides warnings and useful feedback to properly prepare your simulation files.  This command takes, as input, the \".mdp\" file, the \".gro\" file and \".top\" file and outputs a \".tpr\" file. See [the page on grompp in the manual](http://manual.gromacs.org/programs/gmx-grompp.html) for more information."
   ]
  },
  {
   "cell_type": "code",
   "execution_count": null,
   "metadata": {},
   "outputs": [],
   "source": [
    "%%bash \n",
    "gmx grompp -f hexane/minim.mdp -c hexane/hexane.gro -p hexane/hexane.top  -o hexane/em.tpr"
   ]
  },
  {
   "cell_type": "markdown",
   "metadata": {},
   "source": [
    "Next, we use the ```mdrun``` command to actually execute the script."
   ]
  },
  {
   "cell_type": "code",
   "execution_count": null,
   "metadata": {},
   "outputs": [],
   "source": [
    "%%bash\n",
    "gmx mdrun -v -deffnm hexane/em"
   ]
  },
  {
   "cell_type": "markdown",
   "metadata": {},
   "source": [
    "This will generate a series of files. \"em.gro\" is the configuration from the last step of the simulation. \"em.log\" is the simulation log. \"em.trr\" is the configuration trajectory. \n",
    "\n",
    "If we visualize \"em.gro\" (or \"em.trr\") we can see the hexane molecule has energy minimized into the expected conformation.\n",
    "\n",
    "![\"Energy mimized hexane molecule\"](hexane/hexane_em.jpg)"
   ]
  },
  {
   "cell_type": "markdown",
   "metadata": {},
   "source": [
    "### Building a system of hexane molecules\n",
    "To go beyond a single molecule, we can utilize the ```insert-molecules``` function of GROMACS which will construct a random configuration.  This command will take as input a \".gro\" file defining the molecule, the target number of molecules, and the box size.  For example, let us create 5 copies of hexane.  We can use the initial configuration (\"hexane.gro\") as input, but it would make more sense to use the energy minimized molecule we just generated (\"em.gro\").  Note, lengths in GROMACS are given in nanometers (not angstroms). "
   ]
  },
  {
   "cell_type": "code",
   "execution_count": null,
   "metadata": {},
   "outputs": [],
   "source": [
    "%%bash\n",
    "gmx insert-molecules -ci hexane/em.gro -nmol 5 -box 5 5 5 -o hexane_box/hexane_box5.gro"
   ]
  },
  {
   "cell_type": "markdown",
   "metadata": {},
   "source": [
    "As before, we can easily visualize the \"hexane_box.gro\" file using VMD. \n",
    "![\"System of 5 hexane molecules\"](hexane_box/hexane5.jpg)\n",
    "\n",
    "Let us increase the number of hexane molecules to 128 in order to create a bit more of a realistic system (VMD rendering show below). \n",
    "![\"System of 128 hexane molecules\"](hexane_box/hexane128.jpg)\n"
   ]
  },
  {
   "cell_type": "code",
   "execution_count": null,
   "metadata": {},
   "outputs": [],
   "source": [
    "%%bash\n",
    "gmx insert-molecules -ci hexane/em.gro -nmol 128 -box 5 5 5 -o hexane_box/hexane_box128.gro"
   ]
  },
  {
   "cell_type": "markdown",
   "metadata": {},
   "source": [
    "### Running an MD simulation of 128 hexane molecules\n",
    "With the basic structure built, we can now run the system (note, in most cases we would want to perform several stages to relax the system, but for simiplicity of simply demonstrating how to use the basic features of GROMACS, we will skip this step).  The \"hexane_box\" directory includes an .mdp file named \"simple_run.mdp\".  The contents of this file are shown below:\n",
    "\n",
    "```\n",
    "constraints         = none\n",
    "integrator          = md\n",
    "nsteps              = 100000\n",
    "dt                  = 0.001\n",
    "\n",
    "nstxout             = 10000\n",
    "nstvout             = 0\n",
    "nstenergy           = 1000\n",
    "nstlog              = 1000\n",
    "\n",
    "cutoff-scheme       = Verlet\n",
    "ns_type             = grid\n",
    "nstlist             = 10\n",
    "rcoulomb            = 1.1\n",
    "rvdw                = 1.1\n",
    "\n",
    "coulombtype         = PME\n",
    "fourierspacing      = 0.16\n",
    "\n",
    "gen_vel             = no\n",
    "\n",
    "tcoupl              = berendsen\n",
    "tc-grps             = System\n",
    "tau_t               = 1\n",
    "ref_t               = 300\n",
    "\n",
    "pcoupl              = berendsen\n",
    "pcoupltype          = isotropic\n",
    "tau_p               = 1\n",
    "ref_p               = 1\n",
    "compressibility     = 4.5e-5\n",
    "```\n",
    "\n",
    "Note, we will need to ensure that the \".top\" file for hexane reflects the fact the system now has 128 molecules.  The  file \"hexane_box128.top\" is identical to the original \"hexane.top\" file, save for the last section:\n",
    "\n",
    "```\n",
    "[ molecules ]\n",
    "; Compound       #mols\n",
    "CH6                  128\n",
    "```\n",
    "\n",
    "Again, we will first have to run the .mdp file through the ```grompp``` preprocessor. Note, if you failed to update the number of molecules in the .top file, the preprocessor with provide the following, helfpul error:\n",
    "\n",
    "```\n",
    "Fatal error:\n",
    "number of coordinates in coordinate file (hexane_box128.gro, 2560)\n",
    "             does not match topology (hexane_box128.top, 20)\n",
    "```"
   ]
  },
  {
   "cell_type": "code",
   "execution_count": null,
   "metadata": {},
   "outputs": [],
   "source": [
    "%%bash\n",
    "gmx grompp -f hexane_box/simple_run.mdp -c hexane_box/hexane_box128.gro -p hexane_box/hexane_box128.top  -o hexane_box/rlx.tprc"
   ]
  },
  {
   "cell_type": "markdown",
   "metadata": {},
   "source": [
    "After the preprocessing, we can now run this simulation using the following command. Note, the output will not appear until the job has completed; to see the status in realtime, copy and pste the command (exclude the \"%%bash\" line) to your terminal."
   ]
  },
  {
   "cell_type": "code",
   "execution_count": null,
   "metadata": {},
   "outputs": [],
   "source": [
    "%%bash\n",
    "gmx mdrun -v -deffnm hexane_box/rlx"
   ]
  },
  {
   "cell_type": "markdown",
   "metadata": {},
   "source": [
    "The \"rlx.trr\" file can be viewed in VMD; the final snapshot of the short simulation run in shown below.\n",
    "\n",
    "![\"final snapshot\"](hexane_box/hexane128_sim.jpg)"
   ]
  },
  {
   "cell_type": "code",
   "execution_count": null,
   "metadata": {},
   "outputs": [],
   "source": []
  }
 ],
 "metadata": {
  "kernelspec": {
   "display_name": "Python 3",
   "language": "python",
   "name": "python3"
  },
  "language_info": {
   "codemirror_mode": {
    "name": "ipython",
    "version": 3
   },
   "file_extension": ".py",
   "mimetype": "text/x-python",
   "name": "python",
   "nbconvert_exporter": "python",
   "pygments_lexer": "ipython3",
   "version": "3.5.4"
  }
 },
 "nbformat": 4,
 "nbformat_minor": 2
}
