{
 "cells": [
  {
   "cell_type": "markdown",
   "metadata": {},
   "source": [
    "# Anatomy of an MD simulation script File\n",
    "\n",
    "Different simulation packages often use different languages and have different syntax. For example, HOOMD-Blue uses a Python based interface, LAMMPS uses its own custom scripting language, and GROMACS relies upon an input file to define parameters and methods.   However, despite these differences they all generally require the same information to be passed to the code \n",
    "\n",
    "### Basic components of most script/input files\n",
    "#### system/code initialization \n",
    ">box size, particle types, particle initial positions\n",
    "\n",
    "#### interaction definition \n",
    ">how do the different species interact with each other\n",
    "\n",
    "#### integrator setup\n",
    ">what algorithm will we use to advance particles in time, time step of integration, thermodynamic state point (i.e., T or P).\n",
    "\n",
    "#### runtime parameters \n",
    ">total simulation time, which quantities to output and how frequently"
   ]
  },
  {
   "cell_type": "markdown",
   "metadata": {},
   "source": [
    "## Basic HOOMD-Blue script file\n",
    "As an example of defining each of these various components, consider setting a very simple simulation consisting of spheres that interact via the Lennard-Jones potential.  This exercise is based on the following tutorial created by HOOMD developer Josh Anderson:\n",
    "http://nbviewer.jupyter.org/github/joaander/hoomd-examples/blob/master/Tutorial%20-%20MD%20-%20Lennard%20Jones.ipynb"
   ]
  },
  {
   "cell_type": "markdown",
   "metadata": {},
   "source": [
    "### Initialization\n",
    "\n",
    "HOOMD-Blue uses a Python interface, so we must first import the relevant library and functions. "
   ]
  },
  {
   "cell_type": "code",
   "execution_count": 1,
   "metadata": {},
   "outputs": [],
   "source": [
    "import hoomd\n",
    "import hoomd.md"
   ]
  },
  {
   "cell_type": "markdown",
   "metadata": {},
   "source": [
    "Next we must specify the 'execution context' to tell the code whether to run on the GPU and CPU.  Note, by default HOOMD-Blue will run on the GPU if a compatible one is available, unless otherwise specified via the command line options or by passing an argument to the context initializer.  "
   ]
  },
  {
   "cell_type": "code",
   "execution_count": 2,
   "metadata": {},
   "outputs": [
    {
     "name": "stdout",
     "output_type": "stream",
     "text": [
      "HOOMD-blue 2.3.0 DOUBLE HPMC_MIXED SSE SSE2 SSE3 \n",
      "Compiled: 04/25/18\n",
      "Copyright 2009-2018 The Regents of the University of Michigan.\n",
      "-----\n",
      "You are using HOOMD-blue. Please cite the following:\n",
      "* J A Anderson, C D Lorenz, and A Travesset. \"General purpose molecular dynamics\n",
      "  simulations fully implemented on graphics processing units\", Journal of\n",
      "  Computational Physics 227 (2008) 5342--5359\n",
      "* J Glaser, T D Nguyen, J A Anderson, P Liu, F Spiga, J A Millan, D C Morse, and\n",
      "  S C Glotzer. \"Strong scaling of general-purpose molecular dynamics simulations\n",
      "  on GPUs\", Computer Physics Communications 192 (2015) 97--107\n",
      "-----\n",
      "HOOMD-blue is running on the CPU\n"
     ]
    },
    {
     "data": {
      "text/plain": [
       "<hoomd.context.SimulationContext at 0x111cc8d30>"
      ]
     },
     "execution_count": 2,
     "metadata": {},
     "output_type": "execute_result"
    }
   ],
   "source": [
    "hoomd.context.initialize(\"\")"
   ]
  },
  {
   "cell_type": "markdown",
   "metadata": {},
   "source": [
    "Note, one can pass arguments to the intialize function (see [the documentation](https://hoomd-blue.readthedocs.io/en/stable/module-hoomd-context.html), to e.g., specify it to run on the CPU with a set number of threads, \n",
    "```context.initialize(\"--mode=cpu --nthreads=64\")```\n",
    "\n",
    "Particle positions next need to be specified.  HOOMD includes a few helper functions, primarily for the purposes of benchmarking, that allow simple systems to be defined.  Note, in most cases, you will specify particle positions in a separate file (using the [GSD](http://gsd.readthedocs.io/en/stable/) format) and import this into hoomd (see [the documentation](https://hoomd-blue.readthedocs.io/en/stable/module-hoomd-init.html).  Here we will create an 'n' by 'n' by 'n' lattice of particles, with 'n'=5. "
   ]
  },
  {
   "cell_type": "code",
   "execution_count": 3,
   "metadata": {},
   "outputs": [
    {
     "name": "stdout",
     "output_type": "stream",
     "text": [
      "notice(2): Group \"all\" created containing 125 particles\n"
     ]
    },
    {
     "data": {
      "text/plain": [
       "<hoomd.data.system_data at 0x111d95e48>"
      ]
     },
     "execution_count": 3,
     "metadata": {},
     "output_type": "execute_result"
    }
   ],
   "source": [
    "hoomd.init.create_lattice(unitcell=hoomd.lattice.sc(a=2.0), n=5)"
   ]
  },
  {
   "cell_type": "markdown",
   "metadata": {},
   "source": [
    "Note, by default, these particles will be labeled as type \"A\"."
   ]
  },
  {
   "cell_type": "markdown",
   "metadata": {},
   "source": [
    "### Interaction Definition\n",
    "\n",
    "Next we will define how particles interact.  In this case, we will consider all interactions to be of type Lennard-Jones.  In HOOMD, when defining a pair potential, we must also pass a neighborlist. Note, HOOMD-Blue supports several different types of neighborlists that will be discussed in detail later. Here, we will specify a 'cell'-based neighborlist (```nl```) and define the Lennard-Jones pair potential (```lj```), with a cutoff of 2.5. "
   ]
  },
  {
   "cell_type": "code",
   "execution_count": 4,
   "metadata": {},
   "outputs": [],
   "source": [
    "nl = hoomd.md.nlist.cell()\n",
    "lj = hoomd.md.pair.lj(r_cut=2.5, nlist=nl)"
   ]
  },
  {
   "cell_type": "markdown",
   "metadata": {},
   "source": [
    "Next we need to specify the pair coefficients, i.e., epsilon and sigma for the LJ interaction, for each pair of particle types in the system.  Since we only have a single type in our system ('A'), we need only define a single pair.  Note, if you fail to define the interactions, a useful error message will be provided when you try to run the simulation:\n",
    "\n",
    "```\n",
    "**ERROR**: Type pair ('A', 'A') not found in pair coeff\n",
    "**ERROR**: Not all pair coefficients are set\n",
    "```\n"
   ]
  },
  {
   "cell_type": "code",
   "execution_count": 5,
   "metadata": {},
   "outputs": [],
   "source": [
    "lj.pair_coeff.set('A', 'A', epsilon=1.0, sigma=1.0)"
   ]
  },
  {
   "cell_type": "markdown",
   "metadata": {},
   "source": [
    "### Integrator Setup\n",
    "\n",
    "To actually move particles through time, we will specify the timestep of integration (i.e., our time resolution for the numerical integration):"
   ]
  },
  {
   "cell_type": "code",
   "execution_count": 6,
   "metadata": {},
   "outputs": [
    {
     "data": {
      "text/plain": [
       "<hoomd.md.integrate.mode_standard at 0x11027cd30>"
      ]
     },
     "execution_count": 6,
     "metadata": {},
     "output_type": "execute_result"
    }
   ],
   "source": [
    "hoomd.md.integrate.mode_standard(dt=0.005)"
   ]
  },
  {
   "cell_type": "markdown",
   "metadata": {},
   "source": [
    "Next we specify the integration scheme and which particles it will apply to.  Note, in most codes, users do not explicitly specify the underlying algorithm for numerical integration  (e.g., Velocity-Verlet), as this is implicitly defined when selecting the larger integration scheme (i.e., selecting a thermostatting scheme).  \n",
    "\n",
    "Below, we create a [group](https://hoomd-blue.readthedocs.io/en/stable/module-hoomd-group.html) named \"all\" (that includes all particles) and use the [Langevin](https://hoomd-blue.readthedocs.io/en/stable/module-md-integrate.html?highlight=langevin) method:"
   ]
  },
  {
   "cell_type": "code",
   "execution_count": 7,
   "metadata": {},
   "outputs": [
    {
     "name": "stdout",
     "output_type": "stream",
     "text": [
      "notice(2): integrate.langevin/bd is using specified gamma values\n"
     ]
    }
   ],
   "source": [
    "all = hoomd.group.all();\n",
    "hoomd.md.integrate.langevin(group=all, kT=0.2, seed=42);"
   ]
  },
  {
   "cell_type": "markdown",
   "metadata": {},
   "source": [
    "### Runtime parameters\n",
    "\n",
    "It is not typically useful to run a simulation without logging the thermodynamic quantities and structure.   Here we  define a log file using the [analyze function](https://hoomd-blue.readthedocs.io/en/stable/module-hoomd-analyze.html) to output specific thermodynamic quantities and the frequency for outputting them:"
   ]
  },
  {
   "cell_type": "code",
   "execution_count": 8,
   "metadata": {},
   "outputs": [
    {
     "data": {
      "text/plain": [
       "<hoomd.analyze.log at 0x111dc37f0>"
      ]
     },
     "execution_count": 8,
     "metadata": {},
     "output_type": "execute_result"
    }
   ],
   "source": [
    "hoomd.analyze.log(filename=\"log-output.log\",\n",
    "                  quantities=['potential_energy', 'temperature'],\n",
    "                  period=100,\n",
    "                  overwrite=True)"
   ]
  },
  {
   "cell_type": "markdown",
   "metadata": {},
   "source": [
    "Similarly, we define the name and frequency for outputting a trajectory using the [dump function](https://hoomd-blue.readthedocs.io/en/stable/module-hoomd-dump.html). Note that DCD trajectories can also be written, however, GSD files contain the necessary information to restart a simulation.  "
   ]
  },
  {
   "cell_type": "code",
   "execution_count": 9,
   "metadata": {},
   "outputs": [
    {
     "data": {
      "text/plain": [
       "<hoomd.dump.gsd at 0x111dc3208>"
      ]
     },
     "execution_count": 9,
     "metadata": {},
     "output_type": "execute_result"
    }
   ],
   "source": [
    "hoomd.dump.gsd(\"trajectory.gsd\", period=2e3, group=all, overwrite=True)"
   ]
  },
  {
   "cell_type": "markdown",
   "metadata": {},
   "source": [
    "Finally, we must specify the time period to run.  Note, in HOOMD the system will begin running as soon as the run time is defined.  A HOOMD script can have multiple calls to ```run```, as will be discussed later. "
   ]
  },
  {
   "cell_type": "code",
   "execution_count": 10,
   "metadata": {},
   "outputs": [
    {
     "name": "stdout",
     "output_type": "stream",
     "text": [
      "notice(2): -- Neighborlist exclusion statistics -- :\n",
      "notice(2): Particles with 0 exclusions             : 125\n",
      "notice(2): Neighbors included by diameter          : no\n",
      "notice(2): Neighbors excluded when in the same body: no\n",
      "** starting run **\n",
      "Time 00:00:21 | Step 10000 / 10000 | TPS 11236.5 | ETA 00:00:00\n",
      "Average TPS: 11222.3\n",
      "---------\n",
      "-- Neighborlist stats:\n",
      "324 normal updates / 100 forced updates / 0 dangerous updates\n",
      "n_neigh_min: 0 / n_neigh_max: 71 / n_neigh_avg: 23.384\n",
      "shortest rebuild period: 17\n",
      "-- Cell list stats:\n",
      "Dimension: 3, 3, 3\n",
      "n_min    : 0 / n_max: 25 / n_avg: 4.62963\n",
      "** run complete **\n"
     ]
    }
   ],
   "source": [
    "hoomd.run(1e4)"
   ]
  },
  {
   "cell_type": "markdown",
   "metadata": {},
   "source": [
    "### Full script"
   ]
  },
  {
   "cell_type": "code",
   "execution_count": 11,
   "metadata": {},
   "outputs": [
    {
     "name": "stdout",
     "output_type": "stream",
     "text": [
      "notice(2): Group \"all\" created containing 125 particles\n",
      "notice(2): integrate.langevin/bd is using specified gamma values\n",
      "notice(2): -- Neighborlist exclusion statistics -- :\n",
      "notice(2): Particles with 0 exclusions             : 125\n",
      "notice(2): Neighbors included by diameter          : no\n",
      "notice(2): Neighbors excluded when in the same body: no\n",
      "** starting run **\n",
      "Time 00:00:00 | Step 10000 / 10000 | TPS 12320.6 | ETA 00:00:00\n",
      "Average TPS: 12306.8\n",
      "---------\n",
      "-- Neighborlist stats:\n",
      "324 normal updates / 100 forced updates / 0 dangerous updates\n",
      "n_neigh_min: 0 / n_neigh_max: 71 / n_neigh_avg: 23.384\n",
      "shortest rebuild period: 17\n",
      "-- Cell list stats:\n",
      "Dimension: 3, 3, 3\n",
      "n_min    : 0 / n_max: 25 / n_avg: 4.62963\n",
      "** run complete **\n"
     ]
    }
   ],
   "source": [
    "import hoomd\n",
    "import hoomd.md\n",
    "\n",
    "hoomd.context.initialize(\"\");\n",
    "hoomd.init.create_lattice(unitcell=hoomd.lattice.sc(a=2.0), n=5)\n",
    "\n",
    "nl = hoomd.md.nlist.cell();\n",
    "lj = hoomd.md.pair.lj(r_cut=2.5, nlist=nl);\n",
    "lj.pair_coeff.set('A', 'A', epsilon=1.0, sigma=1.0);\n",
    "\n",
    "hoomd.md.integrate.mode_standard(dt=0.005)\n",
    "\n",
    "all = hoomd.group.all();\n",
    "hoomd.md.integrate.langevin(group=all, kT=0.2, seed=42);\n",
    "\n",
    "hoomd.analyze.log(filename=\"log-output.log\",\n",
    "                  quantities=['potential_energy', 'temperature'],\n",
    "                  period=100,\n",
    "                  overwrite=True)\n",
    "hoomd.dump.gsd(\"trajectory.gsd\", period=2e3, group=all, overwrite=True)\n",
    "\n",
    "hoomd.run(1e4)"
   ]
  },
  {
   "cell_type": "markdown",
   "metadata": {
    "collapsed": true
   },
   "source": [
    "### Examining the log\n",
    "The log file generated by hoomd can be easily plotted in matplotlib by using the ```genfromtxt``` function to read in the data. Similar to matlab, individual columns can be separated using the syntax ```data[:,column_num]```where column_num would vary between 0 and 2 in this case as each line in the data file is formatted as: ```time  potential_energy temperature```.  The plot below could easily be changed to output the temperature as a function of time by changing ```data[:,1]``` to ```data[:,2]```"
   ]
  },
  {
   "cell_type": "code",
   "execution_count": 14,
   "metadata": {},
   "outputs": [
    {
     "name": "stdout",
     "output_type": "stream",
     "text": [
      "timestep\tpotential_energy\ttemperature\n",
      "0\t-23.07128906\t0\n",
      "100\t-25.75068684\t0.1300922752\n",
      "200\t-49.91344274\t0.2865361634\n",
      "300\t-83.97514498\t0.3523452488\n",
      "400\t-109.2390021\t0.3477315356\n",
      "500\t-120.0497766\t0.3273104013\n",
      "600\t-136.7939437\t0.2921575244\n",
      "700\t-163.1101678\t0.3259323393\n",
      "800\t-182.9315213\t0.2855838167\n"
     ]
    }
   ],
   "source": [
    "%%%bash\n",
    "###output the first 10 lines of the datafile\n",
    "cat log-output.log | head -n 10"
   ]
  },
  {
   "cell_type": "code",
   "execution_count": 16,
   "metadata": {},
   "outputs": [
    {
     "data": {
      "image/png": "[encoded data removed]",
      "text/plain": [
       "<matplotlib.figure.Figure at 0x127c6c0b8>"
      ]
     },
     "metadata": {},
     "output_type": "display_data"
    }
   ],
   "source": [
    "import numpy\n",
    "from matplotlib import pyplot\n",
    "%matplotlib inline\n",
    "data = numpy.genfromtxt(fname='log-output.log', skip_header=True);\n",
    "\n",
    "pyplot.figure(figsize=(4,2.2), dpi=140);\n",
    "pyplot.plot(data[:,0], data[:,1]);\n",
    "pyplot.xlabel('time step');\n",
    "pyplot.ylabel('potential_energy');"
   ]
  },
  {
   "cell_type": "code",
   "execution_count": null,
   "metadata": {},
   "outputs": [],
   "source": []
  }
 ],
 "metadata": {
  "kernelspec": {
   "display_name": "Python 3",
   "language": "python",
   "name": "python3"
  },
  "language_info": {
   "codemirror_mode": {
    "name": "ipython",
    "version": 3
   },
   "file_extension": ".py",
   "mimetype": "text/x-python",
   "name": "python",
   "nbconvert_exporter": "python",
   "pygments_lexer": "ipython3",
   "version": "3.6.4"
  }
 },
 "nbformat": 4,
 "nbformat_minor": 2
}
