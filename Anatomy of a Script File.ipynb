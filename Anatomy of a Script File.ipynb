{
 "cells": [
  {
   "cell_type": "markdown",
   "metadata": {},
   "source": [
    "# Anatomy of an MD simulation script File\n",
    "\n",
    "Different simulation packages often use different languages and have different syntax. For example, HOOMD-Blue uses a Python based interface, LAMMPS uses its own custom scripting language, and GROMACS relies upon an input file to define parameters and methods.   However, despite these differences they all generally require the same information to be passed to the code \n",
    "\n",
    "#### Basic components of most script/input files\n",
    "- system/code initialization \n",
    ">box size, particle types, particle initial positions\n",
    "- interaction definition \n",
    ">how do the different species interact with each other\n",
    "- integrator setup\n",
    ">what algorithm will we use to advance particles in time, time step of integration, thermodynamic state point (i.e., T or P).\n",
    "- runtime parameters \n",
    ">total simulation time, which quantities to output and how frequently"
   ]
  },
  {
   "cell_type": "markdown",
   "metadata": {},
   "source": [
    "## Basic HOOMD-Blue script file\n",
    "Note, this is currently not setup to be runable. This is currently based on this tutorial:\n",
    "http://nbviewer.jupyter.org/github/joaander/hoomd-examples/blob/master/Tutorial%20-%20MD%20-%20Lennard%20Jones.ipynb"
   ]
  },
  {
   "cell_type": "markdown",
   "metadata": {},
   "source": [
    "### Initialization\n",
    "\n",
    "HOOMD-Blue uses a Python interface, so we must first import the library. \n",
    "\n",
    "`import hoomd`<br>\n",
    "`import hoomd.md`<br>\n",
    "\n",
    "The next bit is used to tell where HOOMD will execute the simulation (GPU or CPU). GPU is default if it exists, unless CPU specified via a commandline call.\n",
    "\n",
    "`hoomd.context.initialize(\"\")`\n",
    "\n",
    "Particle positions next need to be specified.  HOOMD includes a few helper functions, primarily for the purposes of benchmarking.  E.g., creating a $n$ by $n$ by $n$ lattice of particles.\n",
    "\n",
    "`hoomd.init.create_lattice(unitcell=hoomd.lattice.sc(a=2.0), n=5)`\n",
    "\n",
    "Note, by defaul, these will be labeled as type \"A\"."
   ]
  },
  {
   "cell_type": "markdown",
   "metadata": {},
   "source": [
    "### Interaction Definition\n",
    "\n",
    "We must define how particles interact.  In HOOMD, when defining pair potential, a neighborlist needs to be passed to it. \n",
    "\n",
    "`nl = hoomd.md.nlist.cell()`<br>\n",
    "`lj = hoomd.md.pair.lj(r_cut=2.5, nlist=nl)`\n",
    "\n",
    "The individual epsilon and sigma parameters can then be set for each pair of interactions (here we only have type A):\n",
    "\n",
    "`lj.pair_coeff.set('A', 'A', epsilon=1.0, sigma=1.0)`\n",
    "\n"
   ]
  },
  {
   "cell_type": "markdown",
   "metadata": {},
   "source": [
    "### Integrator Setup\n",
    "\n",
    "To actually move particles through time, we'll need to specify the timestep (i.e., our time resolution for which we will numerically integrate):\n",
    "\n",
    "`hoomd.md.integrate.mode_standard(dt=0.005)`\n",
    "\n",
    "Next we specify the algorithm and which particles it will apply to.  For example, here we create a group named \"all\" and use the langevin integration method:\n",
    "\n",
    "`all = hoomd.group.all()`<br>\n",
    "`hoomd.md.integrate.langevin(group=all, kT=0.2, seed=42)`"
   ]
  },
  {
   "cell_type": "markdown",
   "metadata": {},
   "source": [
    "### Runtime parameters\n",
    "\n",
    "First, let us define a log which will record various thermodynamic quantities at set intervals:\n",
    "\n",
    "`hoomd.analyze.log(filename=\"log-output.log\",`<br>\n",
    "`                  quantities=['potential_energy', 'temperature'],`<br>\n",
    "`                  period=100,`<br>\n",
    "`                  overwrite=True);`<br>\n",
    "\n",
    "We can also specify trajectory outputs\n",
    "\n",
    "`hoomd.dump.gsd(\"trajectory.gsd\", period=2e3, group=all, overwrite=True)`\n",
    "\n",
    "Finally, specify how long we want to run:\n",
    "\n",
    "`hoomd.run(1e4);"
   ]
  },
  {
   "cell_type": "markdown",
   "metadata": {},
   "source": [
    "### Full script"
   ]
  },
  {
   "cell_type": "code",
   "execution_count": 1,
   "metadata": {},
   "outputs": [
    {
     "ename": "ModuleNotFoundError",
     "evalue": "No module named 'hoomd'",
     "output_type": "error",
     "traceback": [
      "\u001b[0;31m---------------------------------------------------------------------------\u001b[0m",
      "\u001b[0;31mModuleNotFoundError\u001b[0m                       Traceback (most recent call last)",
      "\u001b[0;32m<ipython-input-1-fe371b8e5ae5>\u001b[0m in \u001b[0;36m<module>\u001b[0;34m()\u001b[0m\n\u001b[0;32m----> 1\u001b[0;31m \u001b[0;32mimport\u001b[0m \u001b[0mhoomd\u001b[0m\u001b[0;34m\u001b[0m\u001b[0m\n\u001b[0m\u001b[1;32m      2\u001b[0m \u001b[0;32mimport\u001b[0m \u001b[0mhoomd\u001b[0m\u001b[0;34m.\u001b[0m\u001b[0mmd\u001b[0m\u001b[0;34m\u001b[0m\u001b[0m\n\u001b[1;32m      3\u001b[0m \u001b[0;34m\u001b[0m\u001b[0m\n\u001b[1;32m      4\u001b[0m \u001b[0mhoomd\u001b[0m\u001b[0;34m.\u001b[0m\u001b[0mcontext\u001b[0m\u001b[0;34m.\u001b[0m\u001b[0minitialize\u001b[0m\u001b[0;34m(\u001b[0m\u001b[0;34m\"\"\u001b[0m\u001b[0;34m)\u001b[0m\u001b[0;34m;\u001b[0m\u001b[0;34m\u001b[0m\u001b[0m\n\u001b[1;32m      5\u001b[0m \u001b[0mhoomd\u001b[0m\u001b[0;34m.\u001b[0m\u001b[0minit\u001b[0m\u001b[0;34m.\u001b[0m\u001b[0mcreate_lattice\u001b[0m\u001b[0;34m(\u001b[0m\u001b[0munitcell\u001b[0m\u001b[0;34m=\u001b[0m\u001b[0mhoomd\u001b[0m\u001b[0;34m.\u001b[0m\u001b[0mlattice\u001b[0m\u001b[0;34m.\u001b[0m\u001b[0msc\u001b[0m\u001b[0;34m(\u001b[0m\u001b[0ma\u001b[0m\u001b[0;34m=\u001b[0m\u001b[0;36m2.0\u001b[0m\u001b[0;34m)\u001b[0m\u001b[0;34m,\u001b[0m \u001b[0mn\u001b[0m\u001b[0;34m=\u001b[0m\u001b[0;36m5\u001b[0m\u001b[0;34m)\u001b[0m\u001b[0;34m;\u001b[0m\u001b[0;34m\u001b[0m\u001b[0m\n",
      "\u001b[0;31mModuleNotFoundError\u001b[0m: No module named 'hoomd'"
     ]
    }
   ],
   "source": [
    "import hoomd\n",
    "import hoomd.md\n",
    "\n",
    "hoomd.context.initialize(\"\");\n",
    "hoomd.init.create_lattice(unitcell=hoomd.lattice.sc(a=2.0), n=5);\n",
    "\n",
    "nl = hoomd.md.nlist.cell();\n",
    "lj = hoomd.md.pair.lj(r_cut=2.5, nlist=nl);\n",
    "lj.pair_coeff.set('A', 'A', epsilon=1.0, sigma=1.0);\n",
    "\n",
    "hoomd.md.integrate.mode_standard(dt=0.005);\n",
    "\n",
    "all = hoomd.group.all();\n",
    "hoomd.md.integrate.langevin(group=all, kT=0.2, seed=42);\n",
    "\n",
    "hoomd.analyze.log(filename=\"log-output.log\",\n",
    "                  quantities=['potential_energy', 'temperature'],\n",
    "                  period=100,\n",
    "                  overwrite=True);\n",
    "hoomd.dump.gsd(\"trajectory.gsd\", period=2e3, group=all, overwrite=True);\n",
    "\n",
    "hoomd.run(1e4);"
   ]
  },
  {
   "cell_type": "code",
   "execution_count": null,
   "metadata": {
    "collapsed": true
   },
   "outputs": [],
   "source": []
  }
 ],
 "metadata": {
  "kernelspec": {
   "display_name": "Python 3",
   "language": "python",
   "name": "python3"
  },
  "language_info": {
   "codemirror_mode": {
    "name": "ipython",
    "version": 3
   },
   "file_extension": ".py",
   "mimetype": "text/x-python",
   "name": "python",
   "nbconvert_exporter": "python",
   "pygments_lexer": "ipython3",
   "version": "3.6.4"
  }
 },
 "nbformat": 4,
 "nbformat_minor": 2
}
