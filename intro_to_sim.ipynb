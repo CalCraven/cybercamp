{
 "cells": [
  {
   "cell_type": "markdown",
   "metadata": {},
   "source": [
    "# Introduction to Simulation\n",
    "\n",
    "## What is simulation?\n",
    "\n",
    "Simulation is a broadly applicable term.  In general, when someone says \"simulation\" they typically mean:\n",
    " * a set of rules to describe a system (i.e., a model)\n",
    " * the use of a set of \"rules\" to predict the behavior of a model under specific conditions.\n",
    " \n",
    "The rules (and methods to evaluate them) will depend strongly on the displine of interest. For example, the rules used to perform simulations of molecules are very different than those used to perform simulations of electronic circuits, assembly lines, traffic patterns, weather, galaxies, etc. \n",
    "\n",
    "Note, the rules/model may be very simple or very complex.  The specificity will depend on the system being considered, the properties that we wish to measure, the accuracy required, and the computational cost (among others). For example, in the field of molecular simulation, many models do not allow bonds to break/form (i.e., they do not model reactions). This simplification is completely reasonable for many systems where reactions are not likely to occur over the timescale or at the temperature being considered and by ignoring reactions simulations can be conducted at significantly reduced computational cost. "
   ]
  },
  {
   "cell_type": "markdown",
   "metadata": {},
   "source": [
    "## Development of a simulation model of a ball falling from rest\n",
    "As a simple example of a simulation model, consider a classic physics problem: modeling a ball falling from rest. \n",
    "\n",
    "Let us first consider the most basic model.  This model requires two rules in order to perform the simulation:\n",
    " * The ball accelerates towards the ground (at height = 0) due to gravity (i.e., g = $9.8 m/s^2$)\n",
    " * The kinematic equations of motion allow us to relate displacement, velocity, acceleration, and time of the ball as it falls:\n",
    "  * $v_f = v_i + g*t$\n",
    "  * $d = 0.5*(v_i+v_f)*t$\n",
    "\n",
    "We can use these these rules to create the model, shown in the Python script below.  Note, that this script numerically evaluate the velocity and displacement at discrete points in time, spaced by the \"timestep\" (dt). If the timestep is very large, the simulation will miss important details about the motion of the ball (e.g., missing the collision with the ground). The smaller the timestep, the finer the resolution, although the longer the simulation will take (although, note, for such a simple model computational cost is not really an issue). \n",
    "\n",
    "This script will log the velocity (```velocity_array```) and height (```height_array```) of the ball as a function of time (```time_array```) and plot the results at the end. "
   ]
  },
  {
   "cell_type": "code",
   "execution_count": 1,
   "metadata": {},
   "outputs": [
    {
     "data": {
      "text/plain": [
       "<matplotlib.figure.Figure at 0x1099b2978>"
      ]
     },
     "metadata": {},
     "output_type": "display_data"
    }
   ],
   "source": [
    "import numpy as np\n",
    "import matplotlib.pyplot as plt\n",
    "\n",
    "\n",
    "g = -9.8 #gravitation constant, m/s^2\n",
    "dt = 0.0001 #timestep, s\n",
    "timesteps  = 22000 #total number of timesteps to consider\n",
    "\n",
    "velocity_i = 0.0 #initial velocity, m/s\n",
    "height_i = 10.0 #initial height, m\n",
    "\n",
    "\n",
    "velocity_array = np.zeros(timesteps)\n",
    "height_array  = np.zeros(timesteps)\n",
    "\n",
    "time_array = np.zeros(timesteps)\n",
    "\n",
    "height_array[0] = height_i\n",
    "velocity_array[0] = velocity_i\n",
    "\n",
    "current_height = height_i\n",
    "\n",
    "for i in range (0, timesteps-1):\n",
    "        \n",
    "        time_array[i+1] = time_array[i] + dt\n",
    "        velocity_array[i+1] = velocity_array[i] + (g*dt)\n",
    "        height_array[i+1] = height_array[i]+ 0.5*(velocity_array[i]+velocity_array[i+1])*dt\n",
    "\n",
    "        #if we have reached the ground, zero out the position and velocity\n",
    "        if height_array[i+1] <= 0:\n",
    "            velocity_array[i+1] = 0\n",
    "            height_array[i+1] = 0\n",
    "\n",
    "ax = plt.subplot(2,1,1)\n",
    "ax.plot(time_array, height_array, c='blue')\n",
    "\n",
    "plt.ylabel('height (m)')\n",
    "\n",
    "ax = plt.subplot(2,1,2)\n",
    "ax.plot(time_array, velocity_array, c='red')\n",
    "plt.ylabel('velocity (m/s)')\n",
    "\n",
    "plt.xlabel('time (s)')\n",
    "\n",
    "plt.show()"
   ]
  },
  {
   "cell_type": "markdown",
   "metadata": {},
   "source": [
    "This example starts with the ball at a height of 10 meters with an initial velocity of 0 m/s.  These parameters could easily be changed to perform the simulation under different conditions; the model/rules do not need to change, only the input conditions.  \n",
    "* For example, try setting the initial velocity to 5 m/s. \n",
    "\n",
    "\n",
    "We could easily make the model more complex as well. For example, we could modeling \"bouncing\" by assuming a perfectly elastic collision with the ground by simply changing the sign on the velocity when the ball hits the ground (see the code below). \n",
    "* We could make this even more realistic by treating this as an inelastic collision.  For example,  try scaling the velocity by 0.75 when the ball contacts the ground in the code below. How does this change things?\n",
    "\n",
    "More complex modifications could be made, e.g., considering drag (and thus being able to capture terminal velocity), a more rigorous model of energy transfer at ground contact, rotation, etc. "
   ]
  },
  {
   "cell_type": "code",
   "execution_count": 2,
   "metadata": {},
   "outputs": [
    {
     "data": {
      "image/png": "[encoded data removed]",
      "text/plain": [
       "<matplotlib.figure.Figure at 0x114a5a550>"
      ]
     },
     "metadata": {},
     "output_type": "display_data"
    }
   ],
   "source": [
    "import numpy as np\n",
    "import matplotlib.pyplot as plt\n",
    "\n",
    "\n",
    "g = -9.8 #gravitation constant\n",
    "dt = 0.0001 #timestep\n",
    "timesteps  = 100000 #total number of timesteps to consider\n",
    "\n",
    "velocity_i = 0.0 #initial velocity\n",
    "height_i = 10.0 #initial height\n",
    "\n",
    "\n",
    "velocity_array = np.zeros(timesteps)\n",
    "height_array  = np.zeros(timesteps)\n",
    "\n",
    "time_array = np.zeros(timesteps)\n",
    "\n",
    "height_array[0] = (height_i)\n",
    "velocity_array[0] = velocity_i\n",
    "\n",
    "\n",
    "\n",
    "current_height = height_i\n",
    "\n",
    "for i in range (0, timesteps-1):\n",
    "        \n",
    "        time_array[i+1] = time_array[i] + dt\n",
    "        velocity_array[i+1] = velocity_array[i] + (g*dt)\n",
    "        height_array[i+1] = height_array[i]+ 0.5*(velocity_array[i]+velocity_array[i+1])*dt\n",
    "\n",
    "        #if we have reached the ground, zero out the position and velocity\n",
    "        if height_array[i+1] <= 0:\n",
    "            velocity_array[i+1] = -1.0*velocity_array[i+1]\n",
    "            height_array[i+1] = height_array[i]+ 0.5*(velocity_array[i]+velocity_array[i+1])*dt\n",
    "\n",
    "\n",
    "ax = plt.subplot(2,1,1)\n",
    "ax.plot(time_array, height_array, c='blue')\n",
    "\n",
    "plt.ylabel('height (m)')\n",
    "\n",
    "ax = plt.subplot(2,1,2)\n",
    "ax.plot(time_array, velocity_array, c='red')\n",
    "plt.ylabel('velocity (m/s)')\n",
    "\n",
    "plt.xlabel('time (s)')\n",
    "\n",
    "plt.show()"
   ]
  },
  {
   "cell_type": "markdown",
   "metadata": {},
   "source": [
    "## What is molecular modeling and simulation?\n",
    "\n",
    "The cybercamp (and the general research in our groups) focus on molecular simulation and modeling.  In general, molecular modeling encompasses the theoretical and computational techniques used to model the behavior of atoms, molecules, and \"aggregates\" of atoms/molecules (e.g., nanoparticles and colloids). Some common systems we consider in the group include:\n",
    " * bulk polymer solutions\n",
    " * ionic liquids\n",
    " * lipid membranes\n",
    " * monolayer coatings on surfaces \n",
    " * fluids confined by pores\n",
    "\n",
    "Molecular modeling and simulation is often used to investigate various aspects of systems:\n",
    "  * thermodynamic/thermochemical properties\n",
    "  * mechanical properties\n",
    "  * morphologies/structures\n",
    "  * spectroscopic properties\n",
    "  * transport properties\n",
    "  * determine underlying mechanisms (e.g., relaxation, failure, structural transitions)\n",
    "  \n",
    "## Why is molecular modeling and simulation useful?\n",
    "Molecular modeling and simulation methods are used in a wide variety of fields including physics, chemistry, chemical engineering, mechanical engineering, materials science, and biology. These methods allow researchers to better understand experimental observations and identify underlying mechanisms, as well as enabling the designing and evaluation of properties of novel materials.  Molecular modeling and simulation has been an integral part in the Materials Genome Initiative (MGI), which was put in place with the goal of halving both the cost and time of bringing new materials to market. Many of the high profile projects as part of the MGI have relied upon molecular modeling and simulation methods to perform large scale screening of the properties of materials to identify promising candidates for the next generation systems (e.g., for [energy storage](http://www.jcesr.org/scientific-tools/materials-project-electrolyte-genome/), [photovoltaics](http://cleanenergy.molecularspace.org), [gas adsorption](https://www.hydrogen.energy.gov/pdfs/review09/st_33_doonan.pdf), etc.). \n",
    "\n",
    "There are many advantage to using molecular modeling and simulation as compared to experiment alone:\n",
    "* Allows us to investigate the behavior of hazardous materials safely and expensive materials cheaply.\n",
    "* Allows for the virtual “synthesis” to look for desirable compounds, favorable interactions, and stability. \n",
    "  * Can prescreen candidate molecules for specific behavior. \n",
    "  * Allows us to establish trends and provide guidance to experiment.\n",
    "* Can be used to calculate properties not easily measurable in experiment, as simulation allows for (in most cases) direct observation.  \n",
    "  * In most methods, we know the 3d spatial coordinates of atoms/molecules in the system at all times, where microscopy is often limited to 2D.  \n",
    "    * We know the energy, velocity, forces, etc. acting on every atom in the system.\n",
    "  * Simulation can capture behavior on timescales that may be too fast for experiment\n",
    "  * Observation does not influence the structure/properties of the simulation. \n",
    "     * E.g., to use TEM/SEM, systems may need to be dried, frozen, or coated and scattering experiments often require using deuterated molecules.\n",
    "* Provides explicit control over the system and composition. \n",
    "  * E.g., we do not need to worry about experimental impurities/non-idealities and can actually controllably introduce these to the system.    \n",
    "  * We can  make aphysical changes to the systems and/or independently vary parameters that may be coupled in experiment.  \n",
    "    * E.g., we can arbitrary change the direction or strength of a dipole moment without having to synthesize a new system; we only need to change the model parameters. \n",
    "      * This sort of control allows us to excplicitely test mechanisms/hypotheses. \n",
    "\n",
    "\n",
    "\n",
    "\n",
    "## Tools for molecular modeling and simulation\n",
    "The cybercamp will  focus on \"classical\" simulation, as this is the primary area where our groups work. In general, classic simulations relying upon \"force fields\" (i.e., numerical/analytical functions) to model the interaction between the center-of-mass of atoms.  There are two main tools used in “classical” simulation:\n",
    " * Molecular dynamics (MD) -- Solves Newton’s equations of motion for atoms/particles (similar to the ball falling example).\n",
    "   * There are many packages to perform MD simulations, here are a few of the common ones:\n",
    "     * [LAMMPS](http://LAMMPS.sandia.gov)\n",
    "     * [GROMACS](http://gromacs.org)\n",
    "     * [HOOMD-Blue](http://glotzerlab.engin.umich.edu/hoomd-blue/)\n",
    "     * [NAMD](https://www-s.ks.uiuc.edu/Research/namd/)\n",
    "     * [DLPoly](https://www.scd.stfc.ac.uk/Pages/DL_POLY.aspx)\n",
    "     * [CHARMM](https://www.charmm.org)\n",
    " * Monte Carlo (MC) -- Stochastically generates configurations according to probabilities\n",
    "   * There are freely available packages for MC simulation, although far fewer in number than MD. These include:\n",
    "     * [Cassandra](http://cassandra.nd.edu)\n",
    "     * [GOMC](http://gomc.eng.wayne.edu)\n",
    "     * [HOOMD-Blue](http://glotzerlab.engin.umich.edu/hoomd-blue/)\n",
    "     * [MCCCS Towhee](http://towhee.sourceforge.net/code/download.html)\n",
    "     \n",
    "\"First principles\" (i.e., ab initio, or quantum mechanical) methods can also be used that take into account electronic structure (rather than using force fields):\n",
    " * Molecular Orbital Theory (MOT)\n",
    " * Density Functional Theory (DFT)\n",
    "\n",
    "There are also various theoretical techniques, such as:\n",
    " * Thermodynamic Perturbation Theory (TPT) of Wertheim\n",
    " * Statistical Associating Fluid Theory (SAFT)\n",
    " * Reference Interaction-Site Model (RISM)\n",
    " * Polymer Reference Interaction-Site Model (PRISM)\n"
   ]
  },
  {
   "cell_type": "markdown",
   "metadata": {},
   "source": []
  },
  {
   "cell_type": "code",
   "execution_count": null,
   "metadata": {},
   "outputs": [],
   "source": []
  }
 ],
 "metadata": {
  "kernelspec": {
   "display_name": "Python 3",
   "language": "python",
   "name": "python3"
  },
  "language_info": {
   "codemirror_mode": {
    "name": "ipython",
    "version": 3
   },
   "file_extension": ".py",
   "mimetype": "text/x-python",
   "name": "python",
   "nbconvert_exporter": "python",
   "pygments_lexer": "ipython3",
   "version": "3.6.4"
  }
 },
 "nbformat": 4,
 "nbformat_minor": 2
}
